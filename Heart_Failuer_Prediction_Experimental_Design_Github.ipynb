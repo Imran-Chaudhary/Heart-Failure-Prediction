{
  "nbformat": 4,
  "nbformat_minor": 0,
  "metadata": {
    "colab": {
      "name": "Heart_Failuer_Prediction_Experimental Design_Github .ipynb",
      "provenance": [],
      "collapsed_sections": []
    },
    "kernelspec": {
      "name": "python3",
      "display_name": "Python 3"
    }
  },
  "cells": [
    {
      "cell_type": "markdown",
      "metadata": {
        "id": "0bOmlXXyHmR1"
      },
      "source": [
        "##\tHypothesis:\n",
        "\n",
        "Ho: There is no significant difference between platelets distributed between patients who died vs those who survived.\n",
        "\n",
        "Ha: There is a significant difference between platelets distributed between patients who died vs who survived.\n"
      ]
    },
    {
      "cell_type": "markdown",
      "metadata": {
        "id": "kupHBkZLHsGl"
      },
      "source": [
        "##\tData:\n",
        "\n",
        "Data comes from Kaggle about 12 clinical features that can be used for predicting death events from heart failure caused by CVDs. \n",
        "\n",
        "It contains 299 observations and 13 variables. There are no missing / null values. \n",
        "The data set consists of variables, i.e age, anemia, diabetes, high-blood pressure, diabetes, platelets etc.. \n"
      ]
    },
    {
      "cell_type": "code",
      "metadata": {
        "id": "D9s27meAYiFA"
      },
      "source": [
        "import pandas as pd\n",
        "import math\n",
        "import numpy as np\n",
        "from scipy import stats\n",
        "import matplotlib.pyplot as plt\n"
      ],
      "execution_count": null,
      "outputs": []
    },
    {
      "cell_type": "code",
      "metadata": {
        "id": "TnwCEcUAirRr"
      },
      "source": [
        "import seaborn as sns \n",
        "sns.set()\n",
        "\n",
        "# suppress warnings (warnings do not prevent the code from executing)\n",
        "import warnings\n",
        "warnings.filterwarnings(\"ignore\")"
      ],
      "execution_count": null,
      "outputs": []
    },
    {
      "cell_type": "code",
      "metadata": {
        "id": "OYl_FS2Hb1nP",
        "colab": {
          "base_uri": "https://localhost:8080/",
          "height": 564
        },
        "outputId": "5e74db54-46a1-4faf-f062-1bd8048b7d5c"
      },
      "source": [
        "cvd = pd.read_csv(\"data/Heart_Failure_causes.csv\")\n",
        "\n",
        "cvd.info()\n",
        "cvd.head()"
      ],
      "execution_count": null,
      "outputs": [
        {
          "output_type": "stream",
          "text": [
            "<class 'pandas.core.frame.DataFrame'>\n",
            "RangeIndex: 299 entries, 0 to 298\n",
            "Data columns (total 13 columns):\n",
            " #   Column                    Non-Null Count  Dtype  \n",
            "---  ------                    --------------  -----  \n",
            " 0   age                       299 non-null    float64\n",
            " 1   anaemia                   299 non-null    int64  \n",
            " 2   creatinine_phosphokinase  299 non-null    int64  \n",
            " 3   diabetes                  299 non-null    int64  \n",
            " 4   ejection_fraction         299 non-null    int64  \n",
            " 5   high_blood_pressure       299 non-null    int64  \n",
            " 6   platelets                 299 non-null    float64\n",
            " 7   serum_creatinine          299 non-null    float64\n",
            " 8   serum_sodium              299 non-null    int64  \n",
            " 9   sex                       299 non-null    int64  \n",
            " 10  smoking                   299 non-null    int64  \n",
            " 11  time                      299 non-null    int64  \n",
            " 12  DEATH_EVENT               299 non-null    int64  \n",
            "dtypes: float64(3), int64(10)\n",
            "memory usage: 30.5 KB\n"
          ],
          "name": "stdout"
        },
        {
          "output_type": "execute_result",
          "data": {
            "text/html": [
              "<div>\n",
              "<style scoped>\n",
              "    .dataframe tbody tr th:only-of-type {\n",
              "        vertical-align: middle;\n",
              "    }\n",
              "\n",
              "    .dataframe tbody tr th {\n",
              "        vertical-align: top;\n",
              "    }\n",
              "\n",
              "    .dataframe thead th {\n",
              "        text-align: right;\n",
              "    }\n",
              "</style>\n",
              "<table border=\"1\" class=\"dataframe\">\n",
              "  <thead>\n",
              "    <tr style=\"text-align: right;\">\n",
              "      <th></th>\n",
              "      <th>age</th>\n",
              "      <th>anaemia</th>\n",
              "      <th>creatinine_phosphokinase</th>\n",
              "      <th>diabetes</th>\n",
              "      <th>ejection_fraction</th>\n",
              "      <th>high_blood_pressure</th>\n",
              "      <th>platelets</th>\n",
              "      <th>serum_creatinine</th>\n",
              "      <th>serum_sodium</th>\n",
              "      <th>sex</th>\n",
              "      <th>smoking</th>\n",
              "      <th>time</th>\n",
              "      <th>DEATH_EVENT</th>\n",
              "    </tr>\n",
              "  </thead>\n",
              "  <tbody>\n",
              "    <tr>\n",
              "      <th>0</th>\n",
              "      <td>75.0</td>\n",
              "      <td>0</td>\n",
              "      <td>582</td>\n",
              "      <td>0</td>\n",
              "      <td>20</td>\n",
              "      <td>1</td>\n",
              "      <td>265000.00</td>\n",
              "      <td>1.9</td>\n",
              "      <td>130</td>\n",
              "      <td>1</td>\n",
              "      <td>0</td>\n",
              "      <td>4</td>\n",
              "      <td>1</td>\n",
              "    </tr>\n",
              "    <tr>\n",
              "      <th>1</th>\n",
              "      <td>55.0</td>\n",
              "      <td>0</td>\n",
              "      <td>7861</td>\n",
              "      <td>0</td>\n",
              "      <td>38</td>\n",
              "      <td>0</td>\n",
              "      <td>263358.03</td>\n",
              "      <td>1.1</td>\n",
              "      <td>136</td>\n",
              "      <td>1</td>\n",
              "      <td>0</td>\n",
              "      <td>6</td>\n",
              "      <td>1</td>\n",
              "    </tr>\n",
              "    <tr>\n",
              "      <th>2</th>\n",
              "      <td>65.0</td>\n",
              "      <td>0</td>\n",
              "      <td>146</td>\n",
              "      <td>0</td>\n",
              "      <td>20</td>\n",
              "      <td>0</td>\n",
              "      <td>162000.00</td>\n",
              "      <td>1.3</td>\n",
              "      <td>129</td>\n",
              "      <td>1</td>\n",
              "      <td>1</td>\n",
              "      <td>7</td>\n",
              "      <td>1</td>\n",
              "    </tr>\n",
              "    <tr>\n",
              "      <th>3</th>\n",
              "      <td>50.0</td>\n",
              "      <td>1</td>\n",
              "      <td>111</td>\n",
              "      <td>0</td>\n",
              "      <td>20</td>\n",
              "      <td>0</td>\n",
              "      <td>210000.00</td>\n",
              "      <td>1.9</td>\n",
              "      <td>137</td>\n",
              "      <td>1</td>\n",
              "      <td>0</td>\n",
              "      <td>7</td>\n",
              "      <td>1</td>\n",
              "    </tr>\n",
              "    <tr>\n",
              "      <th>4</th>\n",
              "      <td>65.0</td>\n",
              "      <td>1</td>\n",
              "      <td>160</td>\n",
              "      <td>1</td>\n",
              "      <td>20</td>\n",
              "      <td>0</td>\n",
              "      <td>327000.00</td>\n",
              "      <td>2.7</td>\n",
              "      <td>116</td>\n",
              "      <td>0</td>\n",
              "      <td>0</td>\n",
              "      <td>8</td>\n",
              "      <td>1</td>\n",
              "    </tr>\n",
              "  </tbody>\n",
              "</table>\n",
              "</div>"
            ],
            "text/plain": [
              "    age  anaemia  creatinine_phosphokinase  ...  smoking  time  DEATH_EVENT\n",
              "0  75.0        0                       582  ...        0     4            1\n",
              "1  55.0        0                      7861  ...        0     6            1\n",
              "2  65.0        0                       146  ...        1     7            1\n",
              "3  50.0        1                       111  ...        0     7            1\n",
              "4  65.0        1                       160  ...        0     8            1\n",
              "\n",
              "[5 rows x 13 columns]"
            ]
          },
          "metadata": {
            "tags": []
          },
          "execution_count": 3
        }
      ]
    },
    {
      "cell_type": "code",
      "metadata": {
        "id": "XLlexd5TcHYz",
        "colab": {
          "base_uri": "https://localhost:8080/",
          "height": 697
        },
        "outputId": "1c4412cc-8225-41c9-d9ad-060c162a6e3a"
      },
      "source": [
        "death_data = cvd[(cvd['DEATH_EVENT'] == 1)]\n",
        "death_data.info()\n",
        "no_death_data = cvd[(cvd['DEATH_EVENT'] == 0)]\n",
        "no_death_data.info()"
      ],
      "execution_count": null,
      "outputs": [
        {
          "output_type": "stream",
          "text": [
            "<class 'pandas.core.frame.DataFrame'>\n",
            "Int64Index: 96 entries, 0 to 266\n",
            "Data columns (total 13 columns):\n",
            " #   Column                    Non-Null Count  Dtype  \n",
            "---  ------                    --------------  -----  \n",
            " 0   age                       96 non-null     float64\n",
            " 1   anaemia                   96 non-null     int64  \n",
            " 2   creatinine_phosphokinase  96 non-null     int64  \n",
            " 3   diabetes                  96 non-null     int64  \n",
            " 4   ejection_fraction         96 non-null     int64  \n",
            " 5   high_blood_pressure       96 non-null     int64  \n",
            " 6   platelets                 96 non-null     float64\n",
            " 7   serum_creatinine          96 non-null     float64\n",
            " 8   serum_sodium              96 non-null     int64  \n",
            " 9   sex                       96 non-null     int64  \n",
            " 10  smoking                   96 non-null     int64  \n",
            " 11  time                      96 non-null     int64  \n",
            " 12  DEATH_EVENT               96 non-null     int64  \n",
            "dtypes: float64(3), int64(10)\n",
            "memory usage: 10.5 KB\n",
            "<class 'pandas.core.frame.DataFrame'>\n",
            "Int64Index: 203 entries, 14 to 298\n",
            "Data columns (total 13 columns):\n",
            " #   Column                    Non-Null Count  Dtype  \n",
            "---  ------                    --------------  -----  \n",
            " 0   age                       203 non-null    float64\n",
            " 1   anaemia                   203 non-null    int64  \n",
            " 2   creatinine_phosphokinase  203 non-null    int64  \n",
            " 3   diabetes                  203 non-null    int64  \n",
            " 4   ejection_fraction         203 non-null    int64  \n",
            " 5   high_blood_pressure       203 non-null    int64  \n",
            " 6   platelets                 203 non-null    float64\n",
            " 7   serum_creatinine          203 non-null    float64\n",
            " 8   serum_sodium              203 non-null    int64  \n",
            " 9   sex                       203 non-null    int64  \n",
            " 10  smoking                   203 non-null    int64  \n",
            " 11  time                      203 non-null    int64  \n",
            " 12  DEATH_EVENT               203 non-null    int64  \n",
            "dtypes: float64(3), int64(10)\n",
            "memory usage: 22.2 KB\n"
          ],
          "name": "stdout"
        }
      ]
    },
    {
      "cell_type": "markdown",
      "metadata": {
        "id": "dzUDZ32FH8bZ"
      },
      "source": [
        "##\tMethods:\n",
        "\n",
        "To perform the analysis, I split the data set into two main groups, A) the patients who died, B) the patients who survived, both having symptoms with CVDs disease.  "
      ]
    },
    {
      "cell_type": "markdown",
      "metadata": {
        "id": "ZFNg0fpXIlaV"
      },
      "source": [
        "### A) Histogram Display"
      ]
    },
    {
      "cell_type": "code",
      "metadata": {
        "id": "eiVnoUVCdZcV",
        "colab": {
          "base_uri": "https://localhost:8080/",
          "height": 268
        },
        "outputId": "b81281b9-bc9b-4ea6-dd49-72f929cf3d54"
      },
      "source": [
        "# 1. histogram\n",
        "\n",
        "plt.hist(death_data['platelets'], alpha = .5)\n",
        "plt.hist(no_death_data['platelets'], alpha = .5)\n",
        "plt.show()\n"
      ],
      "execution_count": null,
      "outputs": [
        {
          "output_type": "display_data",
          "data": {
            "image/png": "[encoded data removed]",
            "text/plain": [
              "<Figure size 432x288 with 1 Axes>"
            ]
          },
          "metadata": {
            "tags": []
          }
        }
      ]
    },
    {
      "cell_type": "code",
      "metadata": {
        "id": "a7mO4KAFCzT1",
        "colab": {
          "base_uri": "https://localhost:8080/",
          "height": 71
        },
        "outputId": "abc8a9b6-d167-48a3-97c2-160b4f41253e"
      },
      "source": [
        "# skewness & kurtosis \n",
        "\n",
        "print(stats.describe(death_data['platelets']))\n",
        "print(stats.describe(no_death_data['platelets']))"
      ],
      "execution_count": null,
      "outputs": [
        {
          "output_type": "stream",
          "text": [
            "DescribeResult(nobs=96, minmax=(47000.0, 621000.0), mean=256381.04479166667, variance=9707310182.337015, skewness=0.6154641139319521, kurtosis=1.2378061872162185)\n",
            "DescribeResult(nobs=203, minmax=(25100.0, 850000.0), mean=266657.4899014778, variance=9512335418.857391, skewness=1.870320834880945, kurtosis=8.3220356421857)\n"
          ],
          "name": "stdout"
        }
      ]
    },
    {
      "cell_type": "markdown",
      "metadata": {
        "id": "rVV9EOj5ftPb"
      },
      "source": [
        "Hence it appears to be normally distributed from visuals, for both group of patients, a) who died and B) who survived.\n",
        "\n",
        "Also confirmed from skewness & kurtosis for symtery... kurtosis is 8 in no_death_data, which is higher and shows more symetry to wards rightisde comparing to death_data."
      ]
    },
    {
      "cell_type": "markdown",
      "metadata": {
        "id": "mO-XwzrxI9vB"
      },
      "source": [
        "### B) Confirming by t-test\n",
        "\n",
        "p =value is > 0.05, which reflects getting fail to reject H0 hypothesis indicating there is no significancnt difference for 'platelets' distribution between the group a) death_data and b) no_death_data."
      ]
    },
    {
      "cell_type": "code",
      "metadata": {
        "id": "v3Jxy7aCf_Fx",
        "colab": {
          "base_uri": "https://localhost:8080/",
          "height": 34
        },
        "outputId": "dc61e14f-b2d8-4b08-cd3d-845f0c1e5de0"
      },
      "source": [
        "# t-test\n",
        "\n",
        "stats.ttest_ind(death_data['platelets'], no_death_data['platelets'])"
      ],
      "execution_count": null,
      "outputs": [
        {
          "output_type": "execute_result",
          "data": {
            "text/plain": [
              "Ttest_indResult(statistic=-0.8478681784251544, pvalue=0.3971941540413678)"
            ]
          },
          "metadata": {
            "tags": []
          },
          "execution_count": 12
        }
      ]
    },
    {
      "cell_type": "markdown",
      "metadata": {
        "id": "SLcmnrQjjGu_"
      },
      "source": [
        " ### C) Seborn -\n",
        " visualizating the data for both groups, confirming the symetry"
      ]
    },
    {
      "cell_type": "code",
      "metadata": {
        "id": "BaZylZmDjSHJ",
        "colab": {
          "base_uri": "https://localhost:8080/",
          "height": 296
        },
        "outputId": "ccd6ea6f-f6e8-4772-ccb5-281209205ec2"
      },
      "source": [
        "dd = sns.distplot(death_data['platelets'])"
      ],
      "execution_count": null,
      "outputs": [
        {
          "output_type": "display_data",
          "data": {
            "image/png": "[encoded data removed]",
            "text/plain": [
              "<Figure size 432x288 with 1 Axes>"
            ]
          },
          "metadata": {
            "tags": []
          }
        }
      ]
    },
    {
      "cell_type": "code",
      "metadata": {
        "id": "aPMKhuZnjjWt",
        "colab": {
          "base_uri": "https://localhost:8080/",
          "height": 296
        },
        "outputId": "fdaf0ecf-04b4-44e6-b12e-b2a08c119344"
      },
      "source": [
        "ndd = sns.distplot(no_death_data['platelets'])"
      ],
      "execution_count": null,
      "outputs": [
        {
          "output_type": "display_data",
          "data": {
            "image/png": "[encoded data removed]",
            "text/plain": [
              "<Figure size 432x288 with 1 Axes>"
            ]
          },
          "metadata": {
            "tags": []
          }
        }
      ]
    },
    {
      "cell_type": "markdown",
      "metadata": {
        "id": "MgcBle35L4TL"
      },
      "source": [
        "#### Comparing variables for finding relationship\n",
        "\n",
        "\n",
        "Trying to compare 2 variables'platelets' and 'sodium_serum' to see if there is any relationship between these two. Result shows there is no relationship between them especially in death_data group.\n",
        "\n",
        "however in no_death_group 'dodium_serum' increases having 'platelets' relatively constant..\n"
      ]
    },
    {
      "cell_type": "code",
      "metadata": {
        "id": "kSS9iRJ9kDG2",
        "colab": {
          "base_uri": "https://localhost:8080/",
          "height": 302
        },
        "outputId": "0419cc56-3095-4acb-ee71-e658a30d648e"
      },
      "source": [
        "sns.scatterplot(x='platelets', y='serum_sodium', data= death_data)"
      ],
      "execution_count": null,
      "outputs": [
        {
          "output_type": "execute_result",
          "data": {
            "text/plain": [
              "<matplotlib.axes._subplots.AxesSubplot at 0x7fc94bca7278>"
            ]
          },
          "metadata": {
            "tags": []
          },
          "execution_count": 29
        },
        {
          "output_type": "display_data",
          "data": {
            "image/png": "[encoded data removed]",
            "text/plain": [
              "<Figure size 432x288 with 1 Axes>"
            ]
          },
          "metadata": {
            "tags": []
          }
        }
      ]
    },
    {
      "cell_type": "code",
      "metadata": {
        "id": "WLZk-QKw9Cvj",
        "colab": {
          "base_uri": "https://localhost:8080/",
          "height": 302
        },
        "outputId": "e6f3ca41-5597-4ab2-dad3-2d2b00fc7665"
      },
      "source": [
        "sns.scatterplot(x='platelets', y='serum_sodium', data= no_death_data)"
      ],
      "execution_count": null,
      "outputs": [
        {
          "output_type": "execute_result",
          "data": {
            "text/plain": [
              "<matplotlib.axes._subplots.AxesSubplot at 0x7f49043a3c88>"
            ]
          },
          "metadata": {
            "tags": []
          },
          "execution_count": 9
        },
        {
          "output_type": "display_data",
          "data": {
            "image/png": "[encoded data removed]",
            "text/plain": [
              "<Figure size 432x288 with 1 Axes>"
            ]
          },
          "metadata": {
            "tags": []
          }
        }
      ]
    },
    {
      "cell_type": "markdown",
      "metadata": {
        "id": "pz9zGp4WDUNA"
      },
      "source": [
        "### D) Blox Plot\n",
        "\n",
        "Box plot shows that 'platelets' appears to be normally distributed in both death_data and no_death_data groups. showing these are less contributed towards heart failure cause."
      ]
    },
    {
      "cell_type": "code",
      "metadata": {
        "id": "Ma2n3Xpl9ACR",
        "colab": {
          "base_uri": "https://localhost:8080/",
          "height": 265
        },
        "outputId": "ac9089d3-ed6c-4c53-a798-c0dbf513dfef"
      },
      "source": [
        "sns.boxenplot(y='platelets', data= death_data)"
      ],
      "execution_count": null,
      "outputs": [
        {
          "output_type": "execute_result",
          "data": {
            "text/plain": [
              "<matplotlib.axes._subplots.AxesSubplot at 0x7fc948f847b8>"
            ]
          },
          "metadata": {
            "tags": []
          },
          "execution_count": 41
        },
        {
          "output_type": "display_data",
          "data": {
            "image/png": "[encoded data removed]",
            "text/plain": [
              "<Figure size 432x288 with 1 Axes>"
            ]
          },
          "metadata": {
            "tags": []
          }
        }
      ]
    },
    {
      "cell_type": "code",
      "metadata": {
        "id": "ljMktmntDNMR",
        "colab": {
          "base_uri": "https://localhost:8080/",
          "height": 267
        },
        "outputId": "37487778-8332-4b1d-f36a-3d3131f4f551"
      },
      "source": [
        "sns.boxenplot(y='platelets', data= no_death_data)"
      ],
      "execution_count": null,
      "outputs": [
        {
          "output_type": "execute_result",
          "data": {
            "text/plain": [
              "<matplotlib.axes._subplots.AxesSubplot at 0x7fc94b8b7dd8>"
            ]
          },
          "metadata": {
            "tags": []
          },
          "execution_count": 37
        },
        {
          "output_type": "display_data",
          "data": {
            "image/png": "[encoded data removed]",
            "text/plain": [
              "<Figure size 432x288 with 1 Axes>"
            ]
          },
          "metadata": {
            "tags": []
          }
        }
      ]
    },
    {
      "cell_type": "markdown",
      "metadata": {
        "id": "78awtdWSNnkj"
      },
      "source": [
        "### D) Confidence Interval - Getting 95% CI"
      ]
    },
    {
      "cell_type": "code",
      "metadata": {
        "id": "oyAId5bZRsE1",
        "colab": {
          "base_uri": "https://localhost:8080/",
          "height": 34
        },
        "outputId": "d16d42aa-e258-4d54-ddcc-142b88e510f2"
      },
      "source": [
        "# Confidence interval\n",
        "\n",
        "\n",
        "def get_95_ci(array_1, array_2):\n",
        "    sample_1_n = array_1.shape[0]\n",
        "    sample_2_n = array_2.shape[0]\n",
        "    sample_1_mean = array_1.mean()\n",
        "    sample_2_mean = array_2.mean()\n",
        "    sample_1_var = array_1.var()\n",
        "    sample_2_var = array_2.var()\n",
        "    mean_difference = sample_2_mean - sample_1_mean\n",
        "    std_err_difference = math.sqrt((sample_1_var/sample_1_n)+(sample_2_var/sample_2_n))\n",
        "    margin_of_error = 1.96 * std_err_difference\n",
        "    ci_lower = mean_difference - margin_of_error\n",
        "    ci_upper = mean_difference + margin_of_error\n",
        "    return(\"The difference in means at the 95% confidence interval (two-tail) is between \"+str(ci_lower)+\" and \"+str(ci_upper)+\".\")\n",
        "\n",
        "print(get_95_ci(death_data['platelets'], no_death_data['platelets']))\n",
        "\n",
        "\n"
      ],
      "execution_count": null,
      "outputs": [
        {
          "output_type": "stream",
          "text": [
            "The difference in means at the 95% confidence interval (two-tail) is between -13566.099706320376 and 34118.989925942726.\n"
          ],
          "name": "stdout"
        }
      ]
    },
    {
      "cell_type": "markdown",
      "metadata": {
        "id": "zJSijxsEGqfS"
      },
      "source": [
        "## 5\tResults:\n",
        "Based on visual inspection, I concluded that ‘platelets’ are appeared to be normally distributed in both group of patients, and to confirm it I conducted t-test as well.  The result shows that a p-value of 0.39 which is higher than 0.05, so it fails to reject H0, describing that there is no significant difference in platelets for patients who died and those one who survived. \n",
        "\n",
        "On the other hand, 95% confidence interval suggests that the difference in average platelets between survived patients and non-survived patients is between -13566 and 34119. \n"
      ]
    },
    {
      "cell_type": "markdown",
      "metadata": {
        "id": "jCa5QARjOKOS"
      },
      "source": [
        "### 6.\tDiscussion & Recommendation:\n",
        "\n",
        "This dataset contains almost 12 features which contribute to predict mortality. However, most of the variables do not have floating data instead have categorical / constant values which do not help much in the analysis. \n",
        "Only one feature ‘platelets’ is tested which appears to be normally distributed so doesn’t have significant effect on one group vs other.\n",
        "Its recommended to collect more data which gives continuous/floating values making it possible to see the contribution of these features in cardio vascular diseases / heart failure. \n",
        "\n",
        "This could be helpful for public health authorities to see the trend and to raise awareness amongst people to modify / change their living habits for a health life. It’s also in the interest of public to watch how they can improve their living style to live a health life.\n"
      ]
    }
  ]
}